{
 "cells": [
  {
   "cell_type": "markdown",
   "metadata": {},
   "source": [
    "# Art Gallery Problem"
   ]
  },
  {
   "cell_type": "markdown",
   "metadata": {},
   "source": [
    "## Geometrical Helper Classes"
   ]
  },
  {
   "cell_type": "code",
   "execution_count": 2,
   "metadata": {
    "collapsed": true
   },
   "outputs": [],
   "source": [
    "# Point: (x|y)\n",
    "class Point:\n",
    "    def __init__(self,x,y):\n",
    "        self.x = x\n",
    "        self.y = y\n",
    "    def __repr__(self):\n",
    "        return f\"{self.__class__.__name__}(x={self.x},y={self.y})\"\n",
    "    def __str__(self):\n",
    "        return f\"({self.x}|{self.y})\""
   ]
  },
  {
   "cell_type": "code",
   "execution_count": 3,
   "metadata": {
    "collapsed": true
   },
   "outputs": [],
   "source": [
    "# Line with equation: ax + by = c\n",
    "class Line:\n",
    "    def __init__(self,a,b,c):\n",
    "        self.a = a\n",
    "        self.b = b\n",
    "        self.c = c\n",
    "    def __repr__(self):\n",
    "        return f\"{self.__class__.__name__}(a={self.a},b={self.b},c={self.c})\"\n",
    "    def __str__(self):\n",
    "        return f\"{self.a}x + {self.b}y = {self.c}\""
   ]
  },
  {
   "cell_type": "markdown",
   "metadata": {},
   "source": [
    "### Line Segment\n",
    "Next, we take a look at line segments. The class LineSegment will be subclass of Line, but instead of the paramters $a$, $b$ and $c$ it will take the starting and endpoint of the line segment as parameters.\n",
    "\n",
    "#### How to calculate the paramaters?\n",
    "We want to calculate the equation $ax+by=c$ of the line passing through our line segment. Let us consider a line segment with endpoints $(x_0|y_0)$ and $(x_1|y_1)$. Assuming at first that $x_0\\neq x_1$, we remember the equations for linear functions $y=mx+n$ with\n",
    "$$m=\\frac{y_1-y_0}{x_1-x_0}$$\n",
    "and \n",
    "$$n=y_1-x_1\\cdot\\frac{y_1-y_0}{x_1-x_0}.$$\n",
    "By setting $a=m$, $b=-1$ and $c=-n$, we get\n",
    "$$\\frac{y_1-y_0}{x_1-x_0}\\cdot x - y = -y_1+x_1\\cdot\\frac{y_1-y_0}{x_1-x_0}.$$\n",
    "Multiplying with $(x_1-x_0)$ yields\n",
    "$$(y_1-y_0)x + (x_0-x_1)y = (x_0-x_1)y_1 + (y_1-y_0)x_1,$$\n",
    "which already looks quite symmetrical. Indeed, this equation also holds for $x_0=x_1$, giving $x=x_1$. So in general, we have\n",
    "$$a=y_1-y_0,\\\\\n",
    "b=x_0-x_1,\\\\\n",
    "c=(x_0-x_1)y_1+(y_1-y_0)x_1.$$"
   ]
  },
  {
   "cell_type": "code",
   "execution_count": 4,
   "metadata": {},
   "outputs": [],
   "source": [
    "# Line segment from Point point0 to Point point1\n",
    "class LineSegment(Line):\n",
    "    def __init__(self,point0,point1):\n",
    "        self.point0 = point0\n",
    "        self.point1 = point1\n",
    "        \n",
    "        self.a = point1.y - point0.y\n",
    "        self.b = point0.x - point1.x\n",
    "        self.c = (point0.x - point1.x)*point1.y + (point1.y - point0.y)*point1.x\n",
    "    def __repr__(self):\n",
    "        return f\"{self.__class__.__name__}(point0={repr(self.point0)},point1={repr(self.point1)})\"\n",
    "    def __str__(self):\n",
    "        return f\"{self.point0} <-> {self.point1}\""
   ]
  },
  {
   "cell_type": "code",
   "execution_count": null,
   "metadata": {
    "collapsed": true
   },
   "outputs": [],
   "source": []
  }
 ],
 "metadata": {
  "kernelspec": {
   "display_name": "Python 3",
   "language": "python",
   "name": "python3"
  },
  "language_info": {
   "codemirror_mode": {
    "name": "ipython",
    "version": 3
   },
   "file_extension": ".py",
   "mimetype": "text/x-python",
   "name": "python",
   "nbconvert_exporter": "python",
   "pygments_lexer": "ipython3",
   "version": "3.6.1"
  }
 },
 "nbformat": 4,
 "nbformat_minor": 2
}
