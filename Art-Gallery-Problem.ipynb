{
 "cells": [
  {
   "cell_type": "markdown",
   "metadata": {},
   "source": [
    "# Art Gallery Problem"
   ]
  },
  {
   "cell_type": "markdown",
   "metadata": {},
   "source": [
    "## Geometrical Helper Classes"
   ]
  },
  {
   "cell_type": "code",
   "execution_count": 1,
   "metadata": {
    "collapsed": true
   },
   "outputs": [],
   "source": [
    "# Point: (x|y)\n",
    "class Point:\n",
    "    def __init__(self,x,y):\n",
    "        self.x = x\n",
    "        self.y = y\n",
    "    def __repr__(self):\n",
    "        return f\"{self.__class__.__name__}(x={self.x},y={self.y})\"\n",
    "    def __str__(self):\n",
    "        return f\"({self.x}|{self.y})\""
   ]
  },
  {
   "cell_type": "code",
   "execution_count": 2,
   "metadata": {
    "collapsed": true
   },
   "outputs": [],
   "source": [
    "# Line with equation: ax + by = c\n",
    "class Line:\n",
    "    def __init__(self,a,b,c):\n",
    "        self.a = a\n",
    "        self.b = b\n",
    "        self.c = c\n",
    "    def __repr__(self):\n",
    "        return f\"{self.__class__.__name__}(a={self.a},b={self.b},c={self.c})\"\n",
    "    def __str__(self):\n",
    "        return f\"{self.a}x + {self.b}y = {self.c}\""
   ]
  },
  {
   "cell_type": "markdown",
   "metadata": {},
   "source": [
    "### Line Segment\n",
    "Next, we take a look at line segments. The class LineSegment will be subclass of Line, but instead of the paramters $a$, $b$ and $c$ it will take the starting and endpoint of the line segment as parameters.\n",
    "\n",
    "#### How to calculate the paramaters?\n",
    "We want to calculate the equation $ax+by=c$ of the line passing through our line segment. Given the starting point $(x_0|y_0)$ and the endpoint $(x_1|y_1)$, we can calculate the slope of the line as\n",
    "$$a=\\frac{y_1-y_0}{x_1-x_0}.$$\n",
    "Prior to this calculation it has to be checked though that $x_0\\neq x_1$."
   ]
  },
  {
   "cell_type": "code",
   "execution_count": 3,
   "metadata": {
    "collapsed": true
   },
   "outputs": [],
   "source": [
    "# Line segment from Point start to Point end\n",
    "class LineSegment(Line):\n",
    "    def __init__(self,start,end):\n",
    "        self.start = start\n",
    "        self.end = end\n",
    "        \n",
    "        \n",
    "    def __repr__(self):\n",
    "        return f\"{self.__class__.__name__}(start={repr(self.start)},end={repr(self.end)})\"\n",
    "    def __str__(self):\n",
    "        return f\"{self.start} <-> {self.end}\""
   ]
  }
 ],
 "metadata": {
  "kernelspec": {
   "display_name": "Python 3",
   "language": "python",
   "name": "python3"
  },
  "language_info": {
   "codemirror_mode": {
    "name": "ipython",
    "version": 3
   },
   "file_extension": ".py",
   "mimetype": "text/x-python",
   "name": "python",
   "nbconvert_exporter": "python",
   "pygments_lexer": "ipython3",
   "version": "3.6.1"
  }
 },
 "nbformat": 4,
 "nbformat_minor": 2
}
